{
 "cells": [
  {
   "attachments": {},
   "cell_type": "markdown",
   "metadata": {},
   "source": [
    "# Model Development\n",
    "\n",
    "- Name       : \n",
    "- Model      : \n",
    "- Output Tag :"
   ]
  },
  {
   "cell_type": "code",
   "execution_count": 12,
   "metadata": {},
   "outputs": [],
   "source": [
    "# Import required libraries\n",
    "import pandas as pd\n",
    "import numpy as np\n",
    "import matplotlib.pyplot as plt\n",
    "\n",
    "# Import additional libraries as required.."
   ]
  },
  {
   "cell_type": "code",
   "execution_count": 13,
   "metadata": {},
   "outputs": [],
   "source": [
    "x_train = pd.read_csv(\"../data/featureEngineeredData/x_train.csv\")\n",
    "x_valid = pd.read_csv(\"../data/featureEngineeredData/x_valid.csv\")\n",
    "x_test = pd.read_csv(\"../data/featureEngineeredData/x_test.csv\")\n",
    "\n",
    "y_train = pd.read_csv(\"../data/featureEngineeredData/y_train.csv\")\n",
    "y_valid = pd.read_csv(\"../data/featureEngineeredData/y_valid.csv\")\n",
    "y_test = pd.read_csv(\"../data/featureEngineeredData/y_test.csv\")"
   ]
  },
  {
   "cell_type": "code",
   "execution_count": 14,
   "metadata": {},
   "outputs": [
    {
     "name": "stdout",
     "output_type": "stream",
     "text": [
      "-X -Data Stats--\n",
      "Train Data      : (53210, 6)\n",
      "Validation Data : (17736, 6)\n",
      "Test Data       : (17736, 6)\n"
     ]
    }
   ],
   "source": [
    "print(f\"-X -Data Stats--\")\n",
    "print(f\"Train Data      : {x_train.shape}\")\n",
    "print(f\"Validation Data : {x_valid.shape}\")\n",
    "print(f\"Test Data       : {x_test.shape}\")"
   ]
  },
  {
   "cell_type": "code",
   "execution_count": 15,
   "metadata": {},
   "outputs": [
    {
     "name": "stdout",
     "output_type": "stream",
     "text": [
      "-Y -Data Stats--\n",
      "Train Data      : (53210, 3)\n",
      "Validation Data : (17736, 3)\n",
      "Test Data       : (17736, 3)\n"
     ]
    }
   ],
   "source": [
    "print(f\"-Y -Data Stats--\")\n",
    "print(f\"Train Data      : {y_train.shape}\")\n",
    "print(f\"Validation Data : {y_valid.shape}\")\n",
    "print(f\"Test Data       : {y_test.shape}\")"
   ]
  },
  {
   "attachments": {},
   "cell_type": "markdown",
   "metadata": {},
   "source": [
    "## Start Your Model Development"
   ]
  },
  {
   "cell_type": "code",
   "execution_count": 16,
   "metadata": {},
   "outputs": [],
   "source": [
    "import tensorflow as tf \n",
    "from tensorflow.keras import layers"
   ]
  },
  {
   "cell_type": "code",
   "execution_count": 17,
   "metadata": {},
   "outputs": [
    {
     "data": {
      "text/plain": [
       "Index(['FT-92537-01', 'TT-92539', 'PT-92539'], dtype='object')"
      ]
     },
     "execution_count": 17,
     "metadata": {},
     "output_type": "execute_result"
    }
   ],
   "source": [
    "y_train.columns"
   ]
  },
  {
   "cell_type": "code",
   "execution_count": 18,
   "metadata": {},
   "outputs": [],
   "source": [
    "def prepTimeFrameData(x_df,y_df, lookback = 9):\n",
    "    x_new = []\n",
    "    y_new_FT = []\n",
    "    y_new_TT = []\n",
    "    y_new_PT = []\n",
    "    for index,row in x_df.iterrows():\n",
    "        if index >= lookback: \n",
    "            tempEntry = []\n",
    "            for col in x_df.columns:\n",
    "                timeFrame = np.array(x_df[col][index-lookback:index])\n",
    "                tempEntry.append(timeFrame)\n",
    "            y_new_FT.append(np.array(y_df.iloc[index,0]))\n",
    "            y_new_TT.append(np.array(y_df.iloc[index,1]))\n",
    "            y_new_PT.append(np.array(y_df.iloc[index,2]))\n",
    "            x_new.append(tempEntry)\n",
    "    x_new = np.array(x_new)\n",
    "    y_new_FT = np.array(y_new_FT)\n",
    "    y_new_TT = np.array(y_new_TT)\n",
    "    y_new_PT = np.array(y_new_PT)\n",
    "\n",
    "    return x_new, y_new_FT, y_new_TT, y_new_PT"
   ]
  },
  {
   "cell_type": "code",
   "execution_count": 19,
   "metadata": {},
   "outputs": [],
   "source": [
    "x_train_new, y_train_new_FT, y_train_new_TT, y_train_new_PT = prepTimeFrameData(x_train,y_train)\n",
    "x_valid_new, y_valid_new_FT, y_valid_new_TT, y_valid_new_PT = prepTimeFrameData(x_valid,y_valid)\n",
    "x_test_new, y_test_new_FT, y_test_new_TT, y_test_new_PT = prepTimeFrameData(x_test,y_test)"
   ]
  },
  {
   "cell_type": "code",
   "execution_count": 20,
   "metadata": {},
   "outputs": [
    {
     "data": {
      "text/plain": [
       "((53201, 6, 9), (53201,))"
      ]
     },
     "execution_count": 20,
     "metadata": {},
     "output_type": "execute_result"
    }
   ],
   "source": [
    "x_train_new.shape,y_train_new_FT.shape"
   ]
  },
  {
   "cell_type": "code",
   "execution_count": 22,
   "metadata": {},
   "outputs": [
    {
     "name": "stdout",
     "output_type": "stream",
     "text": [
      "Model: \"sequential_1\"\n",
      "_________________________________________________________________\n",
      " Layer (type)                Output Shape              Param #   \n",
      "=================================================================\n",
      " lstm_2 (LSTM)               (None, 6, 128)            70656     \n",
      "                                                                 \n",
      " lstm_3 (LSTM)               (None, 64)                49408     \n",
      "                                                                 \n",
      " dense_3 (Dense)             (None, 32)                2080      \n",
      "                                                                 \n",
      " dense_4 (Dense)             (None, 16)                528       \n",
      "                                                                 \n",
      " dense_5 (Dense)             (None, 1)                 17        \n",
      "                                                                 \n",
      "=================================================================\n",
      "Total params: 122,689\n",
      "Trainable params: 122,689\n",
      "Non-trainable params: 0\n",
      "_________________________________________________________________\n",
      "Model: \"sequential_1\"\n",
      "_________________________________________________________________\n",
      " Layer (type)                Output Shape              Param #   \n",
      "=================================================================\n",
      " lstm_2 (LSTM)               (None, 6, 128)            70656     \n",
      "                                                                 \n",
      " lstm_3 (LSTM)               (None, 64)                49408     \n",
      "                                                                 \n",
      " dense_3 (Dense)             (None, 32)                2080      \n",
      "                                                                 \n",
      " dense_4 (Dense)             (None, 16)                528       \n",
      "                                                                 \n",
      " dense_5 (Dense)             (None, 1)                 17        \n",
      "                                                                 \n",
      "=================================================================\n",
      "Total params: 122,689\n",
      "Trainable params: 122,689\n",
      "Non-trainable params: 0\n",
      "_________________________________________________________________\n",
      "Epoch 1/100\n",
      "1663/1663 [==============================] - 10s 5ms/step - loss: 0.6654 - val_loss: 0.7384\n",
      "Epoch 2/100\n",
      "1663/1663 [==============================] - 16s 10ms/step - loss: 0.6547 - val_loss: 0.7338\n",
      "Epoch 3/100\n",
      "1663/1663 [==============================] - 16s 9ms/step - loss: 0.6493 - val_loss: 0.7415\n",
      "Epoch 4/100\n",
      "1663/1663 [==============================] - 16s 9ms/step - loss: 0.6456 - val_loss: 0.7313\n",
      "Epoch 5/100\n",
      "1663/1663 [==============================] - 16s 10ms/step - loss: 0.6426 - val_loss: 0.7606\n",
      "Epoch 6/100\n",
      "1663/1663 [==============================] - 10s 6ms/step - loss: 0.6394 - val_loss: 0.7439\n",
      "Epoch 7/100\n",
      "1663/1663 [==============================] - 15s 9ms/step - loss: 0.6369 - val_loss: 0.7598\n",
      "Epoch 8/100\n",
      "1663/1663 [==============================] - 16s 9ms/step - loss: 0.6339 - val_loss: 0.7514\n",
      "Epoch 9/100\n",
      "1663/1663 [==============================] - 16s 9ms/step - loss: 0.6313 - val_loss: 0.7543\n",
      "Epoch 10/100\n",
      "1663/1663 [==============================] - 16s 9ms/step - loss: 0.6283 - val_loss: 0.7671\n",
      "Epoch 11/100\n",
      "1663/1663 [==============================] - 16s 10ms/step - loss: 0.6246 - val_loss: 0.7577\n",
      "Epoch 12/100\n",
      "1663/1663 [==============================] - 16s 10ms/step - loss: 0.6208 - val_loss: 0.7586\n",
      "Epoch 13/100\n",
      "1663/1663 [==============================] - 16s 10ms/step - loss: 0.6167 - val_loss: 0.7578\n",
      "Epoch 14/100\n",
      "1663/1663 [==============================] - 15s 9ms/step - loss: 0.6121 - val_loss: 0.7637\n",
      "Epoch 15/100\n",
      "1663/1663 [==============================] - 8s 5ms/step - loss: 0.6068 - val_loss: 0.7528\n",
      "Epoch 16/100\n",
      "1663/1663 [==============================] - 8s 5ms/step - loss: 0.6006 - val_loss: 0.8146\n",
      "Epoch 17/100\n",
      "1663/1663 [==============================] - 8s 5ms/step - loss: 0.5942 - val_loss: 0.7742\n",
      "Epoch 18/100\n",
      "1663/1663 [==============================] - 8s 5ms/step - loss: 0.5865 - val_loss: 0.7848\n",
      "Epoch 19/100\n",
      "1663/1663 [==============================] - 8s 5ms/step - loss: 0.5782 - val_loss: 0.8011\n",
      "Epoch 20/100\n",
      "1663/1663 [==============================] - 8s 5ms/step - loss: 0.5694 - val_loss: 0.7884\n",
      "Epoch 21/100\n",
      "1663/1663 [==============================] - 8s 5ms/step - loss: 0.5606 - val_loss: 0.7947\n",
      "Epoch 22/100\n",
      "1663/1663 [==============================] - 8s 5ms/step - loss: 0.5502 - val_loss: 0.8111\n",
      "Epoch 23/100\n",
      "1663/1663 [==============================] - 8s 5ms/step - loss: 0.5401 - val_loss: 0.7986\n",
      "Epoch 24/100\n",
      "1663/1663 [==============================] - 8s 5ms/step - loss: 0.5318 - val_loss: 0.8036\n",
      "Epoch 25/100\n",
      "1663/1663 [==============================] - 8s 5ms/step - loss: 0.5220 - val_loss: 0.8228\n",
      "Epoch 26/100\n",
      "1663/1663 [==============================] - 8s 5ms/step - loss: 0.5113 - val_loss: 0.8024\n",
      "Epoch 27/100\n",
      "1663/1663 [==============================] - 8s 5ms/step - loss: 0.5018 - val_loss: 0.8084\n",
      "Epoch 28/100\n",
      "1663/1663 [==============================] - 8s 5ms/step - loss: 0.4924 - val_loss: 0.8411\n",
      "Epoch 29/100\n",
      "1663/1663 [==============================] - 8s 5ms/step - loss: 0.4824 - val_loss: 0.8220\n",
      "Epoch 30/100\n",
      "1663/1663 [==============================] - 9s 5ms/step - loss: 0.4744 - val_loss: 0.8283\n",
      "Epoch 31/100\n",
      "1663/1663 [==============================] - 15s 9ms/step - loss: 0.4656 - val_loss: 0.8223\n",
      "Epoch 32/100\n",
      "1663/1663 [==============================] - 15s 9ms/step - loss: 0.4572 - val_loss: 0.8345\n",
      "Epoch 33/100\n",
      "1663/1663 [==============================] - 15s 9ms/step - loss: 0.4492 - val_loss: 0.8397\n",
      "Epoch 34/100\n",
      "1663/1663 [==============================] - 15s 9ms/step - loss: 0.4420 - val_loss: 0.8369\n",
      "Epoch 35/100\n",
      "1663/1663 [==============================] - 15s 9ms/step - loss: 0.4344 - val_loss: 0.8257\n",
      "Epoch 36/100\n",
      "1663/1663 [==============================] - 14s 9ms/step - loss: 0.4276 - val_loss: 0.8411\n",
      "Epoch 37/100\n",
      "1663/1663 [==============================] - 15s 9ms/step - loss: 0.4203 - val_loss: 0.8469\n",
      "Epoch 38/100\n",
      "1663/1663 [==============================] - 12s 7ms/step - loss: 0.4137 - val_loss: 0.8347\n",
      "Epoch 39/100\n",
      "1663/1663 [==============================] - 8s 5ms/step - loss: 0.4089 - val_loss: 0.8370\n",
      "Epoch 40/100\n",
      "1663/1663 [==============================] - 8s 5ms/step - loss: 0.4025 - val_loss: 0.8454\n",
      "Epoch 41/100\n",
      "1663/1663 [==============================] - 8s 5ms/step - loss: 0.3979 - val_loss: 0.8486\n",
      "Epoch 42/100\n",
      "1663/1663 [==============================] - 8s 5ms/step - loss: 0.3926 - val_loss: 0.8411\n",
      "Epoch 43/100\n",
      "1663/1663 [==============================] - 8s 5ms/step - loss: 0.3876 - val_loss: 0.8489\n",
      "Epoch 44/100\n",
      "1663/1663 [==============================] - 8s 5ms/step - loss: 0.3824 - val_loss: 0.8570\n",
      "Epoch 45/100\n",
      "1663/1663 [==============================] - 8s 5ms/step - loss: 0.3784 - val_loss: 0.8380\n",
      "Epoch 46/100\n",
      "1663/1663 [==============================] - 8s 5ms/step - loss: 0.3738 - val_loss: 0.8429\n",
      "Epoch 47/100\n",
      "1663/1663 [==============================] - 8s 5ms/step - loss: 0.3706 - val_loss: 0.8426\n",
      "Epoch 48/100\n",
      "1663/1663 [==============================] - 8s 5ms/step - loss: 0.3664 - val_loss: 0.8452\n",
      "Epoch 49/100\n",
      "1663/1663 [==============================] - 8s 5ms/step - loss: 0.3628 - val_loss: 0.8395\n",
      "Epoch 50/100\n",
      "1663/1663 [==============================] - 8s 5ms/step - loss: 0.3588 - val_loss: 0.8361\n",
      "Epoch 51/100\n",
      "1663/1663 [==============================] - 8s 5ms/step - loss: 0.3564 - val_loss: 0.8379\n",
      "Epoch 52/100\n",
      "1663/1663 [==============================] - 8s 5ms/step - loss: 0.3529 - val_loss: 0.8460\n",
      "Epoch 53/100\n",
      "1663/1663 [==============================] - 8s 5ms/step - loss: 0.3503 - val_loss: 0.8543\n",
      "Epoch 54/100\n",
      "1663/1663 [==============================] - 8s 5ms/step - loss: 0.3471 - val_loss: 0.8436\n",
      "Epoch 55/100\n",
      "1663/1663 [==============================] - 8s 5ms/step - loss: 0.3447 - val_loss: 0.8398\n",
      "Epoch 56/100\n",
      "1663/1663 [==============================] - 8s 5ms/step - loss: 0.3422 - val_loss: 0.8529\n",
      "Epoch 57/100\n",
      "1663/1663 [==============================] - 8s 5ms/step - loss: 0.3387 - val_loss: 0.8408\n",
      "Epoch 58/100\n",
      "1663/1663 [==============================] - 8s 5ms/step - loss: 0.3381 - val_loss: 0.8432\n",
      "Epoch 59/100\n",
      "1663/1663 [==============================] - 8s 5ms/step - loss: 0.3346 - val_loss: 0.8458\n",
      "Epoch 60/100\n",
      "1663/1663 [==============================] - 8s 5ms/step - loss: 0.3331 - val_loss: 0.8524\n",
      "Epoch 61/100\n",
      "1663/1663 [==============================] - 8s 5ms/step - loss: 0.3307 - val_loss: 0.8408\n",
      "Epoch 62/100\n",
      "1663/1663 [==============================] - 8s 5ms/step - loss: 0.3283 - val_loss: 0.8502\n",
      "Epoch 63/100\n",
      "1663/1663 [==============================] - 8s 5ms/step - loss: 0.3270 - val_loss: 0.8425\n",
      "Epoch 64/100\n",
      "1663/1663 [==============================] - 8s 5ms/step - loss: 0.3243 - val_loss: 0.8555\n",
      "Epoch 65/100\n",
      "1663/1663 [==============================] - 8s 5ms/step - loss: 0.3231 - val_loss: 0.8500\n",
      "Epoch 66/100\n",
      "1663/1663 [==============================] - 8s 5ms/step - loss: 0.3216 - val_loss: 0.8429\n",
      "Epoch 67/100\n",
      "1663/1663 [==============================] - 8s 5ms/step - loss: 0.3191 - val_loss: 0.8475\n",
      "Epoch 68/100\n",
      "1663/1663 [==============================] - 8s 5ms/step - loss: 0.3175 - val_loss: 0.8401\n",
      "Epoch 69/100\n",
      "1663/1663 [==============================] - 8s 5ms/step - loss: 0.3170 - val_loss: 0.8435\n",
      "Epoch 70/100\n",
      "1663/1663 [==============================] - 8s 5ms/step - loss: 0.3149 - val_loss: 0.8475\n",
      "Epoch 71/100\n",
      "1663/1663 [==============================] - 8s 5ms/step - loss: 0.3135 - val_loss: 0.8417\n",
      "Epoch 72/100\n",
      "1663/1663 [==============================] - 8s 5ms/step - loss: 0.3123 - val_loss: 0.8428\n",
      "Epoch 73/100\n",
      "1663/1663 [==============================] - 8s 5ms/step - loss: 0.3105 - val_loss: 0.8443\n",
      "Epoch 74/100\n",
      "1663/1663 [==============================] - 8s 5ms/step - loss: 0.3088 - val_loss: 0.8477\n",
      "Epoch 75/100\n",
      "1663/1663 [==============================] - 8s 5ms/step - loss: 0.3076 - val_loss: 0.8399\n",
      "Epoch 76/100\n",
      "1663/1663 [==============================] - 11s 7ms/step - loss: 0.3070 - val_loss: 0.8488\n",
      "Epoch 77/100\n",
      "1663/1663 [==============================] - 16s 10ms/step - loss: 0.3049 - val_loss: 0.8459\n",
      "Epoch 78/100\n",
      "1663/1663 [==============================] - 16s 10ms/step - loss: 0.3038 - val_loss: 0.8447\n",
      "Epoch 79/100\n",
      "1663/1663 [==============================] - 16s 10ms/step - loss: 0.3027 - val_loss: 0.8398\n",
      "Epoch 80/100\n",
      "1663/1663 [==============================] - 16s 10ms/step - loss: 0.3013 - val_loss: 0.8413\n",
      "Epoch 81/100\n",
      "1663/1663 [==============================] - 16s 10ms/step - loss: 0.3002 - val_loss: 0.8355\n",
      "Epoch 82/100\n",
      "1663/1663 [==============================] - 17s 10ms/step - loss: 0.2994 - val_loss: 0.8385\n",
      "Epoch 83/100\n",
      "1663/1663 [==============================] - 16s 10ms/step - loss: 0.2980 - val_loss: 0.8445\n",
      "Epoch 84/100\n",
      "1663/1663 [==============================] - 12s 7ms/step - loss: 0.2970 - val_loss: 0.8415\n",
      "Epoch 85/100\n",
      "1663/1663 [==============================] - 12s 7ms/step - loss: 0.2964 - val_loss: 0.8426\n",
      "Epoch 86/100\n",
      "1663/1663 [==============================] - 15s 9ms/step - loss: 0.2950 - val_loss: 0.8407\n",
      "Epoch 87/100\n",
      "1663/1663 [==============================] - 15s 9ms/step - loss: 0.2942 - val_loss: 0.8465\n",
      "Epoch 88/100\n",
      "1663/1663 [==============================] - 15s 9ms/step - loss: 0.2931 - val_loss: 0.8419\n",
      "Epoch 89/100\n",
      "1663/1663 [==============================] - 15s 9ms/step - loss: 0.2924 - val_loss: 0.8496\n",
      "Epoch 90/100\n",
      "1663/1663 [==============================] - 15s 9ms/step - loss: 0.2909 - val_loss: 0.8419\n",
      "Epoch 91/100\n",
      "1663/1663 [==============================] - 15s 9ms/step - loss: 0.2910 - val_loss: 0.8407\n",
      "Epoch 92/100\n",
      "1663/1663 [==============================] - 15s 9ms/step - loss: 0.2894 - val_loss: 0.8413\n",
      "Epoch 93/100\n",
      "1663/1663 [==============================] - 15s 9ms/step - loss: 0.2883 - val_loss: 0.8379\n",
      "Epoch 94/100\n",
      "1663/1663 [==============================] - 15s 9ms/step - loss: 0.2884 - val_loss: 0.8337\n",
      "Epoch 95/100\n",
      "1663/1663 [==============================] - 15s 9ms/step - loss: 0.2875 - val_loss: 0.8420\n",
      "Epoch 96/100\n",
      "1663/1663 [==============================] - 15s 9ms/step - loss: 0.2859 - val_loss: 0.8417\n",
      "Epoch 97/100\n",
      "1663/1663 [==============================] - 15s 9ms/step - loss: 0.2857 - val_loss: 0.8406\n",
      "Epoch 98/100\n",
      "1663/1663 [==============================] - 17s 10ms/step - loss: 0.2845 - val_loss: 0.8434\n",
      "Epoch 99/100\n",
      "1663/1663 [==============================] - 16s 10ms/step - loss: 0.2836 - val_loss: 0.8445\n",
      "Epoch 100/100\n",
      "1663/1663 [==============================] - 11s 7ms/step - loss: 0.2830 - val_loss: 0.8371\n"
     ]
    }
   ],
   "source": [
    "model_enc_dec = tf.keras.Sequential()\n",
    "model_enc_dec.add(layers.LSTM(128, activation='tanh', input_shape=(6, 9),return_sequences = True))\n",
    "model_enc_dec.add(layers.LSTM(64, activation='tanh'))\n",
    "model_enc_dec.add(layers.Dense(32, activation='tanh'))\n",
    "model_enc_dec.add(layers.Dense(16, activation='tanh'))\n",
    "model_enc_dec.add(layers.Dense(1, activation='tanh'))\n",
    "model_enc_dec.summary()\n",
    "model_enc_dec.compile(loss=[\"mae\"],optimizer=tf.keras.optimizers.Adam())\n",
    "model_enc_dec.summary()\n",
    "history = model_enc_dec.fit(x_train_new,y_train_new_FT,epochs=100,verbose=1,batch_size=32, validation_data=(x_valid_new, y_valid_new_FT))"
   ]
  },
  {
   "cell_type": "code",
   "execution_count": 23,
   "metadata": {},
   "outputs": [
    {
     "data": {
      "text/plain": [
       "<matplotlib.legend.Legend at 0x2335c6917b0>"
      ]
     },
     "execution_count": 23,
     "metadata": {},
     "output_type": "execute_result"
    },
    {
     "data": {
      "image/png": "[encoded data removed]",
      "text/plain": [
       "<Figure size 640x480 with 1 Axes>"
      ]
     },
     "metadata": {},
     "output_type": "display_data"
    }
   ],
   "source": [
    "plt.plot(history.history['loss'],label = 'training_loss')\n",
    "plt.plot(history.history['val_loss'],label = 'validation_loss')\n",
    "plt.title(\"Loss\")\n",
    "plt.xlabel(\"epochs\")\n",
    "plt.ylabel(\"loss\")\n",
    "plt.legend()"
   ]
  },
  {
   "cell_type": "code",
   "execution_count": null,
   "metadata": {},
   "outputs": [],
   "source": []
  },
  {
   "cell_type": "code",
   "execution_count": null,
   "metadata": {},
   "outputs": [],
   "source": []
  }
 ],
 "metadata": {
  "kernelspec": {
   "display_name": "venv",
   "language": "python",
   "name": "python3"
  },
  "language_info": {
   "codemirror_mode": {
    "name": "ipython",
    "version": 3
   },
   "file_extension": ".py",
   "mimetype": "text/x-python",
   "name": "python",
   "nbconvert_exporter": "python",
   "pygments_lexer": "ipython3",
   "version": "3.10.8"
  },
  "orig_nbformat": 4
 },
 "nbformat": 4,
 "nbformat_minor": 2
}
