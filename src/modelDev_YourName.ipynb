{
 "cells": [
  {
   "attachments": {},
   "cell_type": "markdown",
   "metadata": {},
   "source": [
    "# Model Development\n",
    "\n",
    "- Name       : \n",
    "- Model      : \n",
    "- Output Tag :"
   ]
  },
  {
   "cell_type": "code",
   "execution_count": 21,
   "metadata": {},
   "outputs": [],
   "source": [
    "# Import required libraries\n",
    "import pandas as pd\n",
    "import numpy as np\n",
    "\n",
    "# Import additional libraries as required.."
   ]
  },
  {
   "cell_type": "code",
   "execution_count": 22,
   "metadata": {},
   "outputs": [],
   "source": [
    "x_train = pd.read_csv(\"../data/featureEngineeredData/x_train.csv\")\n",
    "x_valid = pd.read_csv(\"../data/featureEngineeredData/x_valid.csv\")\n",
    "x_test = pd.read_csv(\"../data/featureEngineeredData/x_test.csv\")\n",
    "\n",
    "y_train = pd.read_csv(\"../data/featureEngineeredData/y_train.csv\")\n",
    "y_valid = pd.read_csv(\"../data/featureEngineeredData/y_valid.csv\")\n",
    "y_test = pd.read_csv(\"../data/featureEngineeredData/y_test.csv\")"
   ]
  },
  {
   "cell_type": "code",
   "execution_count": 23,
   "metadata": {},
   "outputs": [
    {
     "name": "stdout",
     "output_type": "stream",
     "text": [
      "-X -Data Stats--\n",
      "Train Data      : (53210, 6)\n",
      "Validation Data : (17736, 6)\n",
      "Test Data       : (17736, 6)\n"
     ]
    }
   ],
   "source": [
    "print(f\"-X -Data Stats--\")\n",
    "print(f\"Train Data      : {x_train.shape}\")\n",
    "print(f\"Validation Data : {x_valid.shape}\")\n",
    "print(f\"Test Data       : {x_test.shape}\")"
   ]
  },
  {
   "cell_type": "code",
   "execution_count": 24,
   "metadata": {},
   "outputs": [
    {
     "name": "stdout",
     "output_type": "stream",
     "text": [
      "-Y -Data Stats--\n",
      "Train Data      : (53210, 3)\n",
      "Validation Data : (17736, 3)\n",
      "Test Data       : (17736, 3)\n"
     ]
    }
   ],
   "source": [
    "print(f\"-Y -Data Stats--\")\n",
    "print(f\"Train Data      : {y_train.shape}\")\n",
    "print(f\"Validation Data : {y_valid.shape}\")\n",
    "print(f\"Test Data       : {y_test.shape}\")"
   ]
  },
  {
   "attachments": {},
   "cell_type": "markdown",
   "metadata": {},
   "source": [
    "## Start Your Model Development"
   ]
  },
  {
   "cell_type": "code",
   "execution_count": 12,
   "metadata": {},
   "outputs": [
    {
     "data": {
      "text/plain": [
       "(53210, 6)"
      ]
     },
     "execution_count": 12,
     "metadata": {},
     "output_type": "execute_result"
    }
   ],
   "source": [
    "# Your code here"
   ]
  }
 ],
 "metadata": {
  "kernelspec": {
   "display_name": "venv",
   "language": "python",
   "name": "python3"
  },
  "language_info": {
   "codemirror_mode": {
    "name": "ipython",
    "version": 3
   },
   "file_extension": ".py",
   "mimetype": "text/x-python",
   "name": "python",
   "nbconvert_exporter": "python",
   "pygments_lexer": "ipython3",
   "version": "3.10.8"
  },
  "orig_nbformat": 4
 },
 "nbformat": 4,
 "nbformat_minor": 2
}
