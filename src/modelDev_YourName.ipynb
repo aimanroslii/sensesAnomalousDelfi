{
 "cells": [
  {
   "attachments": {},
   "cell_type": "markdown",
   "metadata": {},
   "source": [
    "# Model Development\n",
    "\n",
    "- Name       : \n",
    "- Model      : \n",
    "- Output Tag :"
   ]
  },
  {
   "cell_type": "code",
   "execution_count": 5,
   "metadata": {},
   "outputs": [],
   "source": [
    "# Import required libraries\n",
    "import pandas as pd\n",
    "import numpy as np\n",
    "\n",
    "# Import additional libraries as required.."
   ]
  },
  {
   "cell_type": "code",
   "execution_count": 6,
   "metadata": {},
   "outputs": [],
   "source": [
    "x_train = pd.read_csv(\"../data/featureEngineeredData/x_train.csv\")\n",
    "x_valid = pd.read_csv(\"../data/featureEngineeredData/x_valid.csv\")\n",
    "x_test = pd.read_csv(\"../data/featureEngineeredData/x_test.csv\")\n",
    "\n",
    "y_train = pd.read_csv(\"../data/featureEngineeredData/y_train.csv\")\n",
    "y_valid = pd.read_csv(\"../data/featureEngineeredData/y_valid.csv\")\n",
    "y_test = pd.read_csv(\"../data/featureEngineeredData/y_test.csv\")"
   ]
  },
  {
   "attachments": {},
   "cell_type": "markdown",
   "metadata": {},
   "source": [
    "## Start Your Model Development"
   ]
  },
  {
   "cell_type": "code",
   "execution_count": 7,
   "metadata": {},
   "outputs": [],
   "source": [
    "# Your code here"
   ]
  }
 ],
 "metadata": {
  "kernelspec": {
   "display_name": "venv",
   "language": "python",
   "name": "python3"
  },
  "language_info": {
   "codemirror_mode": {
    "name": "ipython",
    "version": 3
   },
   "file_extension": ".py",
   "mimetype": "text/x-python",
   "name": "python",
   "nbconvert_exporter": "python",
   "pygments_lexer": "ipython3",
   "version": "3.10.8"
  },
  "orig_nbformat": 4
 },
 "nbformat": 4,
 "nbformat_minor": 2
}
