{
 "cells": [
  {
   "cell_type": "code",
   "execution_count": 1,
   "metadata": {},
   "outputs": [],
   "source": [
    "# And so it begins? \n",
    "# Import required libraries\n",
    "import pandas as pd\n",
    "import numpy as np"
   ]
  },
  {
   "cell_type": "code",
   "execution_count": 2,
   "metadata": {},
   "outputs": [],
   "source": [
    "x_train = pd.read_csv(\"../data/featureEngineeredData/x_train.csv\")\n",
    "x_valid = pd.read_csv(\"../data/featureEngineeredData/x_valid.csv\")\n",
    "x_test = pd.read_csv(\"../data/featureEngineeredData/x_test.csv\")\n",
    "\n",
    "y_train = pd.read_csv(\"../data/featureEngineeredData/y_train.csv\")\n",
    "y_valid = pd.read_csv(\"../data/featureEngineeredData/y_valid.csv\")\n",
    "y_test = pd.read_csv(\"../data/featureEngineeredData/y_test.csv\")"
   ]
  },
  {
   "cell_type": "code",
   "execution_count": null,
   "metadata": {},
   "outputs": [],
   "source": []
  },
  {
   "cell_type": "code",
   "execution_count": null,
   "metadata": {},
   "outputs": [],
   "source": []
  }
 ],
 "metadata": {
  "kernelspec": {
   "display_name": "venv",
   "language": "python",
   "name": "python3"
  },
  "language_info": {
   "codemirror_mode": {
    "name": "ipython",
    "version": 3
   },
   "file_extension": ".py",
   "mimetype": "text/x-python",
   "name": "python",
   "nbconvert_exporter": "python",
   "pygments_lexer": "ipython3",
   "version": "3.10.8"
  },
  "orig_nbformat": 4
 },
 "nbformat": 4,
 "nbformat_minor": 2
}
