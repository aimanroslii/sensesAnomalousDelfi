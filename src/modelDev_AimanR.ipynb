{
 "cells": [
  {
   "attachments": {},
   "cell_type": "markdown",
   "metadata": {},
   "source": [
    "# Model Development\n",
    "\n",
    "- Name       : \n",
    "- Model      : \n",
    "- Output Tag :"
   ]
  },
  {
   "cell_type": "code",
   "execution_count": 3,
   "metadata": {},
   "outputs": [],
   "source": [
    "# Import required libraries\n",
    "import pandas as pd\n",
    "import numpy as np\n",
    "import matplotlib.pyplot as plt\n",
    "\n",
    "# Import additional libraries as required.."
   ]
  },
  {
   "cell_type": "code",
   "execution_count": 4,
   "metadata": {},
   "outputs": [],
   "source": [
    "x_train = pd.read_csv(\"../data/featureEngineeredData/x_train.csv\")\n",
    "x_valid = pd.read_csv(\"../data/featureEngineeredData/x_valid.csv\")\n",
    "x_test = pd.read_csv(\"../data/featureEngineeredData/x_test.csv\")\n",
    "\n",
    "y_train = pd.read_csv(\"../data/featureEngineeredData/y_train.csv\")\n",
    "y_valid = pd.read_csv(\"../data/featureEngineeredData/y_valid.csv\")\n",
    "y_test = pd.read_csv(\"../data/featureEngineeredData/y_test.csv\")"
   ]
  },
  {
   "cell_type": "code",
   "execution_count": 5,
   "metadata": {},
   "outputs": [
    {
     "name": "stdout",
     "output_type": "stream",
     "text": [
      "-X -Data Stats--\n",
      "Train Data      : (53210, 6)\n",
      "Validation Data : (17736, 6)\n",
      "Test Data       : (17736, 6)\n"
     ]
    }
   ],
   "source": [
    "print(f\"-X -Data Stats--\")\n",
    "print(f\"Train Data      : {x_train.shape}\")\n",
    "print(f\"Validation Data : {x_valid.shape}\")\n",
    "print(f\"Test Data       : {x_test.shape}\")"
   ]
  },
  {
   "cell_type": "code",
   "execution_count": 6,
   "metadata": {},
   "outputs": [
    {
     "name": "stdout",
     "output_type": "stream",
     "text": [
      "-Y -Data Stats--\n",
      "Train Data      : (53210, 3)\n",
      "Validation Data : (17736, 3)\n",
      "Test Data       : (17736, 3)\n"
     ]
    }
   ],
   "source": [
    "print(f\"-Y -Data Stats--\")\n",
    "print(f\"Train Data      : {y_train.shape}\")\n",
    "print(f\"Validation Data : {y_valid.shape}\")\n",
    "print(f\"Test Data       : {y_test.shape}\")"
   ]
  },
  {
   "attachments": {},
   "cell_type": "markdown",
   "metadata": {},
   "source": [
    "## Start Your Model Development"
   ]
  },
  {
   "cell_type": "code",
   "execution_count": 7,
   "metadata": {},
   "outputs": [],
   "source": [
    "import tensorflow as tf \n",
    "from tensorflow.keras import layers"
   ]
  },
  {
   "cell_type": "code",
   "execution_count": 8,
   "metadata": {},
   "outputs": [
    {
     "data": {
      "text/plain": [
       "Index(['FT-92537-01', 'TT-92539', 'PT-92539'], dtype='object')"
      ]
     },
     "execution_count": 8,
     "metadata": {},
     "output_type": "execute_result"
    }
   ],
   "source": [
    "y_train.columns"
   ]
  },
  {
   "cell_type": "code",
   "execution_count": 9,
   "metadata": {},
   "outputs": [],
   "source": [
    "def prepTimeFrameData(x_df,y_df, lookback = 9):\n",
    "    x_new = []\n",
    "    y_new_FT = []\n",
    "    y_new_TT = []\n",
    "    y_new_PT = []\n",
    "    for index,row in x_df.iterrows():\n",
    "        if index >= lookback: \n",
    "            tempEntry = []\n",
    "            for col in x_df.columns:\n",
    "                timeFrame = np.array(x_df[col][index-lookback:index])\n",
    "                tempEntry.append(timeFrame)\n",
    "            y_new_FT.append(np.array(y_df.iloc[index,0]))\n",
    "            y_new_TT.append(np.array(y_df.iloc[index,1]))\n",
    "            y_new_PT.append(np.array(y_df.iloc[index,2]))\n",
    "            x_new.append(tempEntry)\n",
    "    x_new = np.array(x_new)\n",
    "    y_new_FT = np.array(y_new_FT)\n",
    "    y_new_TT = np.array(y_new_TT)\n",
    "    y_new_PT = np.array(y_new_PT)\n",
    "\n",
    "    return x_new, y_new_FT, y_new_TT, y_new_PT"
   ]
  },
  {
   "cell_type": "code",
   "execution_count": 10,
   "metadata": {},
   "outputs": [],
   "source": [
    "x_train_new, y_train_new_FT, y_train_new_TT, y_train_new_PT = prepTimeFrameData(x_train,y_train)\n",
    "x_valid_new, y_valid_new_FT, y_valid_new_TT, y_valid_new_PT = prepTimeFrameData(x_valid,y_valid)\n",
    "x_test_new, y_test_new_FT, y_test_new_TT, y_test_new_PT = prepTimeFrameData(x_test,y_test)"
   ]
  },
  {
   "cell_type": "code",
   "execution_count": 11,
   "metadata": {},
   "outputs": [
    {
     "data": {
      "text/plain": [
       "((53201, 6, 9), (53201,))"
      ]
     },
     "execution_count": 11,
     "metadata": {},
     "output_type": "execute_result"
    }
   ],
   "source": [
    "x_train_new.shape,y_train_new_FT.shape"
   ]
  },
  {
   "cell_type": "code",
   "execution_count": 12,
   "metadata": {},
   "outputs": [
    {
     "name": "stdout",
     "output_type": "stream",
     "text": [
      "Model: \"sequential\"\n",
      "_________________________________________________________________\n",
      "Layer (type)                 Output Shape              Param #   \n",
      "=================================================================\n",
      "gru (GRU)                    (None, 6, 128)            53376     \n",
      "_________________________________________________________________\n",
      "gru_1 (GRU)                  (None, 64)                37248     \n",
      "_________________________________________________________________\n",
      "dense (Dense)                (None, 32)                2080      \n",
      "_________________________________________________________________\n",
      "dense_1 (Dense)              (None, 16)                528       \n",
      "_________________________________________________________________\n",
      "dense_2 (Dense)              (None, 1)                 17        \n",
      "=================================================================\n",
      "Total params: 93,249\n",
      "Trainable params: 93,249\n",
      "Non-trainable params: 0\n",
      "_________________________________________________________________\n",
      "Model: \"sequential\"\n",
      "_________________________________________________________________\n",
      "Layer (type)                 Output Shape              Param #   \n",
      "=================================================================\n",
      "gru (GRU)                    (None, 6, 128)            53376     \n",
      "_________________________________________________________________\n",
      "gru_1 (GRU)                  (None, 64)                37248     \n",
      "_________________________________________________________________\n",
      "dense (Dense)                (None, 32)                2080      \n",
      "_________________________________________________________________\n",
      "dense_1 (Dense)              (None, 16)                528       \n",
      "_________________________________________________________________\n",
      "dense_2 (Dense)              (None, 1)                 17        \n",
      "=================================================================\n",
      "Total params: 93,249\n",
      "Trainable params: 93,249\n",
      "Non-trainable params: 0\n",
      "_________________________________________________________________\n",
      "Epoch 1/100\n",
      "1663/1663 [==============================] - 18s 9ms/step - loss: 0.6733 - val_loss: 0.7425\n",
      "Epoch 2/100\n",
      "1663/1663 [==============================] - 13s 8ms/step - loss: 0.6537 - val_loss: 0.7374\n",
      "Epoch 3/100\n",
      "1663/1663 [==============================] - 13s 8ms/step - loss: 0.6522 - val_loss: 0.7385\n",
      "Epoch 4/100\n",
      "1663/1663 [==============================] - 14s 8ms/step - loss: 0.6420 - val_loss: 0.7349\n",
      "Epoch 5/100\n",
      "1663/1663 [==============================] - 13s 8ms/step - loss: 0.6390 - val_loss: 0.7434\n",
      "Epoch 6/100\n",
      "1663/1663 [==============================] - 14s 8ms/step - loss: 0.6376 - val_loss: 0.7537\n",
      "Epoch 7/100\n",
      "1663/1663 [==============================] - 14s 8ms/step - loss: 0.6388 - val_loss: 0.7320\n",
      "Epoch 8/100\n",
      "1663/1663 [==============================] - 14s 8ms/step - loss: 0.6302 - val_loss: 0.7375\n",
      "Epoch 9/100\n",
      "1663/1663 [==============================] - 14s 8ms/step - loss: 0.6209 - val_loss: 0.7403\n",
      "Epoch 10/100\n",
      "1663/1663 [==============================] - 13s 8ms/step - loss: 0.6258 - val_loss: 0.7591\n",
      "Epoch 11/100\n",
      "1663/1663 [==============================] - 13s 8ms/step - loss: 0.6146 - val_loss: 0.7446\n",
      "Epoch 12/100\n",
      "1663/1663 [==============================] - 15s 9ms/step - loss: 0.6146 - val_loss: 0.7394\n",
      "Epoch 13/100\n",
      "1663/1663 [==============================] - 12s 7ms/step - loss: 0.6118 - val_loss: 0.7614\n",
      "Epoch 14/100\n",
      "1663/1663 [==============================] - 12s 7ms/step - loss: 0.5992 - val_loss: 0.7500\n",
      "Epoch 15/100\n",
      "1663/1663 [==============================] - 11s 7ms/step - loss: 0.5954 - val_loss: 0.7537\n",
      "Epoch 16/100\n",
      "1663/1663 [==============================] - 14s 9ms/step - loss: 0.5863 - val_loss: 0.7549\n",
      "Epoch 17/100\n",
      "1663/1663 [==============================] - 12s 7ms/step - loss: 0.5773 - val_loss: 0.7651\n",
      "Epoch 18/100\n",
      "1663/1663 [==============================] - 12s 7ms/step - loss: 0.5641 - val_loss: 0.7634\n",
      "Epoch 19/100\n",
      "1663/1663 [==============================] - 14s 8ms/step - loss: 0.5599 - val_loss: 0.7676\n",
      "Epoch 20/100\n",
      "1663/1663 [==============================] - 13s 8ms/step - loss: 0.5510 - val_loss: 0.7746\n",
      "Epoch 21/100\n",
      "1663/1663 [==============================] - 16s 10ms/step - loss: 0.5340 - val_loss: 0.7839\n",
      "Epoch 22/100\n",
      "1663/1663 [==============================] - 17s 10ms/step - loss: 0.5236 - val_loss: 0.7837\n",
      "Epoch 23/100\n",
      "1663/1663 [==============================] - 14s 9ms/step - loss: 0.5206 - val_loss: 0.7949\n",
      "Epoch 24/100\n",
      "1663/1663 [==============================] - 15s 9ms/step - loss: 0.5044 - val_loss: 0.8046\n",
      "Epoch 25/100\n",
      "1663/1663 [==============================] - 14s 8ms/step - loss: 0.4933 - val_loss: 0.7976\n",
      "Epoch 26/100\n",
      "1663/1663 [==============================] - 14s 8ms/step - loss: 0.4818 - val_loss: 0.7913\n",
      "Epoch 27/100\n",
      "1663/1663 [==============================] - 14s 8ms/step - loss: 0.4775 - val_loss: 0.8007\n",
      "Epoch 28/100\n",
      "1663/1663 [==============================] - 13s 8ms/step - loss: 0.4662 - val_loss: 0.7948\n",
      "Epoch 29/100\n",
      "1663/1663 [==============================] - 14s 8ms/step - loss: 0.4643 - val_loss: 0.8070\n",
      "Epoch 30/100\n",
      "1663/1663 [==============================] - 21s 13ms/step - loss: 0.4530 - val_loss: 0.8091\n",
      "Epoch 31/100\n",
      "1663/1663 [==============================] - 13s 8ms/step - loss: 0.4484 - val_loss: 0.8061\n",
      "Epoch 32/100\n",
      "1663/1663 [==============================] - 13s 8ms/step - loss: 0.4440 - val_loss: 0.8132\n",
      "Epoch 33/100\n",
      "1663/1663 [==============================] - 14s 8ms/step - loss: 0.4342 - val_loss: 0.8178\n",
      "Epoch 34/100\n",
      "1663/1663 [==============================] - 13s 8ms/step - loss: 0.4337 - val_loss: 0.8246\n",
      "Epoch 35/100\n",
      "1663/1663 [==============================] - 14s 8ms/step - loss: 0.4254 - val_loss: 0.8213\n",
      "Epoch 36/100\n",
      "1663/1663 [==============================] - 13s 8ms/step - loss: 0.4228 - val_loss: 0.8220\n",
      "Epoch 37/100\n",
      "1663/1663 [==============================] - 14s 8ms/step - loss: 0.4177 - val_loss: 0.8126\n",
      "Epoch 38/100\n",
      "1663/1663 [==============================] - 14s 8ms/step - loss: 0.4146 - val_loss: 0.8156\n",
      "Epoch 39/100\n",
      "1663/1663 [==============================] - 14s 8ms/step - loss: 0.4089 - val_loss: 0.8255\n",
      "Epoch 40/100\n",
      "1663/1663 [==============================] - 14s 8ms/step - loss: 0.4024 - val_loss: 0.8314\n",
      "Epoch 41/100\n",
      "1663/1663 [==============================] - 16s 9ms/step - loss: 0.4002 - val_loss: 0.8202\n",
      "Epoch 42/100\n",
      "1663/1663 [==============================] - 16s 9ms/step - loss: 0.4001 - val_loss: 0.8229\n",
      "Epoch 43/100\n",
      "1663/1663 [==============================] - 17s 11ms/step - loss: 0.3952 - val_loss: 0.8210\n",
      "Epoch 44/100\n",
      "1663/1663 [==============================] - 13s 8ms/step - loss: 0.3889 - val_loss: 0.8254\n",
      "Epoch 45/100\n",
      "1663/1663 [==============================] - 13s 8ms/step - loss: 0.3846 - val_loss: 0.8198\n",
      "Epoch 46/100\n",
      "1663/1663 [==============================] - 11s 7ms/step - loss: 0.3837 - val_loss: 0.8289\n",
      "Epoch 47/100\n",
      "1663/1663 [==============================] - 12s 7ms/step - loss: 0.3821 - val_loss: 0.8275\n",
      "Epoch 48/100\n",
      "1663/1663 [==============================] - 12s 7ms/step - loss: 0.3843 - val_loss: 0.8278\n",
      "Epoch 49/100\n",
      "1663/1663 [==============================] - 12s 7ms/step - loss: 0.3812 - val_loss: 0.8314\n",
      "Epoch 50/100\n",
      "1663/1663 [==============================] - 11s 7ms/step - loss: 0.3784 - val_loss: 0.8385\n",
      "Epoch 51/100\n",
      "1663/1663 [==============================] - 12s 7ms/step - loss: 0.3747 - val_loss: 0.8313\n",
      "Epoch 52/100\n",
      "1663/1663 [==============================] - 11s 7ms/step - loss: 0.3807 - val_loss: 0.8237\n",
      "Epoch 53/100\n",
      "1663/1663 [==============================] - 12s 7ms/step - loss: 0.3712 - val_loss: 0.8287\n",
      "Epoch 54/100\n",
      "1663/1663 [==============================] - 12s 7ms/step - loss: 0.3687 - val_loss: 0.8214\n",
      "Epoch 55/100\n",
      "1663/1663 [==============================] - 15s 9ms/step - loss: 0.3752 - val_loss: 0.8275\n",
      "Epoch 56/100\n",
      "1663/1663 [==============================] - 16s 10ms/step - loss: 0.3739 - val_loss: 0.8264\n",
      "Epoch 57/100\n",
      "1663/1663 [==============================] - 13s 8ms/step - loss: 0.3686 - val_loss: 0.8339\n",
      "Epoch 58/100\n",
      "1663/1663 [==============================] - 12s 7ms/step - loss: 0.3672 - val_loss: 0.8332\n",
      "Epoch 59/100\n",
      "1663/1663 [==============================] - 12s 7ms/step - loss: 0.3691 - val_loss: 0.8357\n",
      "Epoch 60/100\n",
      "1663/1663 [==============================] - 13s 8ms/step - loss: 0.3619 - val_loss: 0.8371\n",
      "Epoch 61/100\n",
      "1663/1663 [==============================] - 12s 7ms/step - loss: 0.3633 - val_loss: 0.8352\n",
      "Epoch 62/100\n",
      "1663/1663 [==============================] - 12s 7ms/step - loss: 0.3621 - val_loss: 0.8266\n",
      "Epoch 63/100\n",
      "1663/1663 [==============================] - 13s 8ms/step - loss: 0.3638 - val_loss: 0.8312\n",
      "Epoch 64/100\n",
      "1663/1663 [==============================] - 12s 7ms/step - loss: 0.3587 - val_loss: 0.8360\n",
      "Epoch 65/100\n",
      "1663/1663 [==============================] - 18s 11ms/step - loss: 0.3595 - val_loss: 0.8359\n",
      "Epoch 66/100\n",
      "1663/1663 [==============================] - 14s 9ms/step - loss: 0.3559 - val_loss: 0.8301\n",
      "Epoch 67/100\n",
      "1663/1663 [==============================] - 14s 8ms/step - loss: 0.3603 - val_loss: 0.8386\n",
      "Epoch 68/100\n",
      "1663/1663 [==============================] - 13s 8ms/step - loss: 0.3565 - val_loss: 0.8362\n",
      "Epoch 69/100\n",
      "1663/1663 [==============================] - 13s 8ms/step - loss: 0.3596 - val_loss: 0.8375\n",
      "Epoch 70/100\n",
      "1663/1663 [==============================] - 13s 8ms/step - loss: 0.3597 - val_loss: 0.8352\n",
      "Epoch 71/100\n",
      "1663/1663 [==============================] - 15s 9ms/step - loss: 0.3527 - val_loss: 0.8324\n",
      "Epoch 72/100\n",
      "1663/1663 [==============================] - 16s 10ms/step - loss: 0.3491 - val_loss: 0.8331\n",
      "Epoch 73/100\n",
      "1663/1663 [==============================] - 14s 9ms/step - loss: 0.3520 - val_loss: 0.8296\n",
      "Epoch 74/100\n",
      "1663/1663 [==============================] - 20s 12ms/step - loss: 0.3540 - val_loss: 0.8250\n",
      "Epoch 75/100\n",
      "1663/1663 [==============================] - 16s 10ms/step - loss: 0.3530 - val_loss: 0.8207\n",
      "Epoch 76/100\n",
      "1663/1663 [==============================] - 16s 10ms/step - loss: 0.3508 - val_loss: 0.8320\n",
      "Epoch 77/100\n",
      "1663/1663 [==============================] - 19s 11ms/step - loss: 0.3504 - val_loss: 0.8318\n",
      "Epoch 78/100\n",
      "1663/1663 [==============================] - 17s 10ms/step - loss: 0.3466 - val_loss: 0.8299\n",
      "Epoch 79/100\n",
      "1663/1663 [==============================] - 15s 9ms/step - loss: 0.3474 - val_loss: 0.8327\n",
      "Epoch 80/100\n",
      "1663/1663 [==============================] - 13s 8ms/step - loss: 0.3492 - val_loss: 0.8305\n",
      "Epoch 81/100\n",
      "1663/1663 [==============================] - 13s 8ms/step - loss: 0.3458 - val_loss: 0.8304\n",
      "Epoch 82/100\n",
      "1663/1663 [==============================] - 13s 8ms/step - loss: 0.3479 - val_loss: 0.8299\n",
      "Epoch 83/100\n",
      "1663/1663 [==============================] - 13s 8ms/step - loss: 0.3458 - val_loss: 0.8255\n",
      "Epoch 84/100\n",
      "1663/1663 [==============================] - 13s 8ms/step - loss: 0.3444 - val_loss: 0.8295\n",
      "Epoch 85/100\n",
      "1663/1663 [==============================] - 13s 8ms/step - loss: 0.3415 - val_loss: 0.8325\n",
      "Epoch 86/100\n",
      "1663/1663 [==============================] - 13s 8ms/step - loss: 0.3421 - val_loss: 0.8276\n",
      "Epoch 87/100\n",
      "1663/1663 [==============================] - 13s 8ms/step - loss: 0.3464 - val_loss: 0.8382\n",
      "Epoch 88/100\n",
      "1663/1663 [==============================] - 16s 10ms/step - loss: 0.3456 - val_loss: 0.8348\n",
      "Epoch 89/100\n",
      "1663/1663 [==============================] - 14s 8ms/step - loss: 0.3417 - val_loss: 0.8305\n",
      "Epoch 90/100\n",
      "1663/1663 [==============================] - 17s 10ms/step - loss: 0.3443 - val_loss: 0.8296\n",
      "Epoch 91/100\n",
      "1663/1663 [==============================] - 14s 8ms/step - loss: 0.3409 - val_loss: 0.8336\n",
      "Epoch 92/100\n",
      "1663/1663 [==============================] - 14s 8ms/step - loss: 0.3418 - val_loss: 0.8311\n",
      "Epoch 93/100\n",
      "1663/1663 [==============================] - 13s 8ms/step - loss: 0.3412 - val_loss: 0.8322\n",
      "Epoch 94/100\n",
      "1663/1663 [==============================] - 14s 8ms/step - loss: 0.3367 - val_loss: 0.8336\n",
      "Epoch 95/100\n",
      "1663/1663 [==============================] - 14s 8ms/step - loss: 0.3435 - val_loss: 0.8320\n",
      "Epoch 96/100\n",
      "1663/1663 [==============================] - 15s 9ms/step - loss: 0.3390 - val_loss: 0.8393\n",
      "Epoch 97/100\n",
      "1663/1663 [==============================] - 15s 9ms/step - loss: 0.3394 - val_loss: 0.8345\n",
      "Epoch 98/100\n",
      "1663/1663 [==============================] - 14s 8ms/step - loss: 0.3379 - val_loss: 0.8357\n",
      "Epoch 99/100\n",
      "1663/1663 [==============================] - 14s 9ms/step - loss: 0.3422 - val_loss: 0.8330\n",
      "Epoch 100/100\n",
      "1663/1663 [==============================] - 15s 9ms/step - loss: 0.3388 - val_loss: 0.8371\n"
     ]
    }
   ],
   "source": [
    "model_enc_dec = tf.keras.Sequential()\n",
    "model_enc_dec.add(layers.GRU(128, activation='tanh', input_shape=(6, 9),return_sequences = True))\n",
    "model_enc_dec.add(layers.GRU(64, activation='tanh'))\n",
    "model_enc_dec.add(layers.Dense(32, activation='tanh'))\n",
    "model_enc_dec.add(layers.Dense(16, activation='tanh'))\n",
    "model_enc_dec.add(layers.Dense(1, activation='tanh'))\n",
    "model_enc_dec.summary()\n",
    "model_enc_dec.compile(loss=[\"mae\"],optimizer=tf.keras.optimizers.Adam())\n",
    "model_enc_dec.summary()\n",
    "history = model_enc_dec.fit(x_train_new,y_train_new_FT,epochs=100,verbose=1,batch_size=32, validation_data=(x_valid_new, y_valid_new_FT))"
   ]
  },
  {
   "cell_type": "code",
   "execution_count": 13,
   "metadata": {},
   "outputs": [
    {
     "data": {
      "text/plain": [
       "<matplotlib.legend.Legend at 0x29588976198>"
      ]
     },
     "execution_count": 13,
     "metadata": {},
     "output_type": "execute_result"
    },
    {
     "data": {
      "image/png": "[encoded data removed]",
      "text/plain": [
       "<Figure size 432x288 with 1 Axes>"
      ]
     },
     "metadata": {
      "needs_background": "light"
     },
     "output_type": "display_data"
    }
   ],
   "source": [
    "plt.plot(history.history['loss'],label = 'training_loss')\n",
    "plt.plot(history.history['val_loss'],label = 'validation_loss')\n",
    "plt.title(\"Loss\")\n",
    "plt.xlabel(\"epochs\")\n",
    "plt.ylabel(\"loss\")\n",
    "plt.legend()"
   ]
  },
  {
   "cell_type": "code",
   "execution_count": null,
   "metadata": {},
   "outputs": [],
   "source": []
  },
  {
   "cell_type": "code",
   "execution_count": null,
   "metadata": {},
   "outputs": [],
   "source": []
  }
 ],
 "metadata": {
  "kernelspec": {
   "display_name": "openvino_env",
   "language": "python",
   "name": "openvino_env"
  },
  "language_info": {
   "codemirror_mode": {
    "name": "ipython",
    "version": 3
   },
   "file_extension": ".py",
   "mimetype": "text/x-python",
   "name": "python",
   "nbconvert_exporter": "python",
   "pygments_lexer": "ipython3",
   "version": "3.6.6"
  },
  "orig_nbformat": 4
 },
 "nbformat": 4,
 "nbformat_minor": 2
}
